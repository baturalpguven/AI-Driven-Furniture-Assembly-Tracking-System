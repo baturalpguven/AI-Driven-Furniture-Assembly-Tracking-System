{
 "cells": [
  {
   "cell_type": "code",
   "execution_count": 1,
   "metadata": {},
   "outputs": [],
   "source": [
    "# Import required libs\n",
    "import os\n",
    "from utilities import jpg_to_mp4\n",
    "from dataset import VideoDataset"
   ]
  },
  {
   "cell_type": "code",
   "execution_count": 2,
   "metadata": {},
   "outputs": [],
   "source": [
    "# Set paths\n",
    "HOME = os.getcwd()\n",
    "data_path = os.path.join(HOME,\"Data\")"
   ]
  },
  {
   "cell_type": "code",
   "execution_count": 8,
   "metadata": {},
   "outputs": [],
   "source": [
    "# Uncomment the line below to convert all .jpg sequences in  into .mp4 videos @ 24 fps\n",
    "#jpg_to_mp4(data_path, frame_rate=24)"
   ]
  },
  {
   "cell_type": "code",
   "execution_count": 3,
   "metadata": {},
   "outputs": [
    {
     "name": "stdout",
     "output_type": "stream",
     "text": [
      "['c:\\\\Users\\\\umerh\\\\Desktop\\\\Project\\\\Data\\\\seq_1\\\\seq_1_view_1.mp4', 'c:\\\\Users\\\\umerh\\\\Desktop\\\\Project\\\\Data\\\\seq_1\\\\seq_1_view_2.mp4', 'c:\\\\Users\\\\umerh\\\\Desktop\\\\Project\\\\Data\\\\seq_1\\\\seq_1_view_3.mp4', 'c:\\\\Users\\\\umerh\\\\Desktop\\\\Project\\\\Data\\\\seq_1\\\\seq_1_view_4.mp4', 'c:\\\\Users\\\\umerh\\\\Desktop\\\\Project\\\\Data\\\\seq_1\\\\seq_1_view_5.mp4', 'c:\\\\Users\\\\umerh\\\\Desktop\\\\Project\\\\Data\\\\seq_1\\\\seq_1_view_6.mp4', 'c:\\\\Users\\\\umerh\\\\Desktop\\\\Project\\\\Data\\\\seq_1\\\\seq_1_view_7.mp4', 'c:\\\\Users\\\\umerh\\\\Desktop\\\\Project\\\\Data\\\\seq_1\\\\seq_1_view_8.mp4']\n",
      "['c:\\\\Users\\\\umerh\\\\Desktop\\\\Project\\\\Data\\\\seq_10\\\\seq_10_view_1.mp4', 'c:\\\\Users\\\\umerh\\\\Desktop\\\\Project\\\\Data\\\\seq_10\\\\seq_10_view_2.mp4', 'c:\\\\Users\\\\umerh\\\\Desktop\\\\Project\\\\Data\\\\seq_10\\\\seq_10_view_3.mp4', 'c:\\\\Users\\\\umerh\\\\Desktop\\\\Project\\\\Data\\\\seq_10\\\\seq_10_view_4.mp4', 'c:\\\\Users\\\\umerh\\\\Desktop\\\\Project\\\\Data\\\\seq_10\\\\seq_10_view_5.mp4', 'c:\\\\Users\\\\umerh\\\\Desktop\\\\Project\\\\Data\\\\seq_10\\\\seq_10_view_6.mp4', 'c:\\\\Users\\\\umerh\\\\Desktop\\\\Project\\\\Data\\\\seq_10\\\\seq_10_view_7.mp4', 'c:\\\\Users\\\\umerh\\\\Desktop\\\\Project\\\\Data\\\\seq_10\\\\seq_10_view_8.mp4']\n",
      "['c:\\\\Users\\\\umerh\\\\Desktop\\\\Project\\\\Data\\\\seq_11\\\\Seq11_view1.mp4', 'c:\\\\Users\\\\umerh\\\\Desktop\\\\Project\\\\Data\\\\seq_11\\\\Seq11_view2.mp4', 'c:\\\\Users\\\\umerh\\\\Desktop\\\\Project\\\\Data\\\\seq_11\\\\Seq11_view3.mp4', 'c:\\\\Users\\\\umerh\\\\Desktop\\\\Project\\\\Data\\\\seq_11\\\\Seq11_view4.mp4', 'c:\\\\Users\\\\umerh\\\\Desktop\\\\Project\\\\Data\\\\seq_11\\\\Seq11_view5.mp4', 'c:\\\\Users\\\\umerh\\\\Desktop\\\\Project\\\\Data\\\\seq_11\\\\Seq11_view6.mp4', 'c:\\\\Users\\\\umerh\\\\Desktop\\\\Project\\\\Data\\\\seq_11\\\\Seq11_view7.mp4', 'c:\\\\Users\\\\umerh\\\\Desktop\\\\Project\\\\Data\\\\seq_11\\\\Seq11_view8.mp4']\n",
      "['c:\\\\Users\\\\umerh\\\\Desktop\\\\Project\\\\Data\\\\seq_12\\\\Seq12_view1.mp4', 'c:\\\\Users\\\\umerh\\\\Desktop\\\\Project\\\\Data\\\\seq_12\\\\Seq12_view2.mp4', 'c:\\\\Users\\\\umerh\\\\Desktop\\\\Project\\\\Data\\\\seq_12\\\\Seq12_view3.mp4', 'c:\\\\Users\\\\umerh\\\\Desktop\\\\Project\\\\Data\\\\seq_12\\\\Seq12_view4.mp4', 'c:\\\\Users\\\\umerh\\\\Desktop\\\\Project\\\\Data\\\\seq_12\\\\Seq12_view5.mp4', 'c:\\\\Users\\\\umerh\\\\Desktop\\\\Project\\\\Data\\\\seq_12\\\\Seq12_view6.mp4', 'c:\\\\Users\\\\umerh\\\\Desktop\\\\Project\\\\Data\\\\seq_12\\\\Seq12_view7.mp4', 'c:\\\\Users\\\\umerh\\\\Desktop\\\\Project\\\\Data\\\\seq_12\\\\Seq12_view8.mp4']\n",
      "['c:\\\\Users\\\\umerh\\\\Desktop\\\\Project\\\\Data\\\\seq_13\\\\Seq13_view1.mp4', 'c:\\\\Users\\\\umerh\\\\Desktop\\\\Project\\\\Data\\\\seq_13\\\\Seq13_view2.mp4', 'c:\\\\Users\\\\umerh\\\\Desktop\\\\Project\\\\Data\\\\seq_13\\\\Seq13_view3.mp4', 'c:\\\\Users\\\\umerh\\\\Desktop\\\\Project\\\\Data\\\\seq_13\\\\Seq13_view4.mp4', 'c:\\\\Users\\\\umerh\\\\Desktop\\\\Project\\\\Data\\\\seq_13\\\\Seq13_view5.mp4', 'c:\\\\Users\\\\umerh\\\\Desktop\\\\Project\\\\Data\\\\seq_13\\\\Seq13_view6.mp4', 'c:\\\\Users\\\\umerh\\\\Desktop\\\\Project\\\\Data\\\\seq_13\\\\Seq13_view7.mp4', 'c:\\\\Users\\\\umerh\\\\Desktop\\\\Project\\\\Data\\\\seq_13\\\\Seq13_view8.mp4']\n",
      "['c:\\\\Users\\\\umerh\\\\Desktop\\\\Project\\\\Data\\\\seq_14\\\\seq_14_view_1.mp4', 'c:\\\\Users\\\\umerh\\\\Desktop\\\\Project\\\\Data\\\\seq_14\\\\seq_14_view_2.mp4', 'c:\\\\Users\\\\umerh\\\\Desktop\\\\Project\\\\Data\\\\seq_14\\\\seq_14_view_3.mp4', 'c:\\\\Users\\\\umerh\\\\Desktop\\\\Project\\\\Data\\\\seq_14\\\\seq_14_view_4.mp4', 'c:\\\\Users\\\\umerh\\\\Desktop\\\\Project\\\\Data\\\\seq_14\\\\seq_14_view_5.mp4', 'c:\\\\Users\\\\umerh\\\\Desktop\\\\Project\\\\Data\\\\seq_14\\\\seq_14_view_6.mp4', 'c:\\\\Users\\\\umerh\\\\Desktop\\\\Project\\\\Data\\\\seq_14\\\\seq_14_view_7.mp4', 'c:\\\\Users\\\\umerh\\\\Desktop\\\\Project\\\\Data\\\\seq_14\\\\seq_14_view_8.mp4']\n",
      "['c:\\\\Users\\\\umerh\\\\Desktop\\\\Project\\\\Data\\\\seq_2\\\\seq_2_view_1.mp4', 'c:\\\\Users\\\\umerh\\\\Desktop\\\\Project\\\\Data\\\\seq_2\\\\seq_2_view_2.mp4', 'c:\\\\Users\\\\umerh\\\\Desktop\\\\Project\\\\Data\\\\seq_2\\\\seq_2_view_3.mp4', 'c:\\\\Users\\\\umerh\\\\Desktop\\\\Project\\\\Data\\\\seq_2\\\\seq_2_view_4.mp4', 'c:\\\\Users\\\\umerh\\\\Desktop\\\\Project\\\\Data\\\\seq_2\\\\seq_2_view_5.mp4', 'c:\\\\Users\\\\umerh\\\\Desktop\\\\Project\\\\Data\\\\seq_2\\\\seq_2_view_6.mp4', 'c:\\\\Users\\\\umerh\\\\Desktop\\\\Project\\\\Data\\\\seq_2\\\\seq_2_view_7.mp4', 'c:\\\\Users\\\\umerh\\\\Desktop\\\\Project\\\\Data\\\\seq_2\\\\seq_2_view_8.mp4']\n",
      "['c:\\\\Users\\\\umerh\\\\Desktop\\\\Project\\\\Data\\\\seq_3\\\\seq_3_view_1.mp4', 'c:\\\\Users\\\\umerh\\\\Desktop\\\\Project\\\\Data\\\\seq_3\\\\seq_3_view_2.mp4', 'c:\\\\Users\\\\umerh\\\\Desktop\\\\Project\\\\Data\\\\seq_3\\\\seq_3_view_3.mp4', 'c:\\\\Users\\\\umerh\\\\Desktop\\\\Project\\\\Data\\\\seq_3\\\\seq_3_view_4.mp4', 'c:\\\\Users\\\\umerh\\\\Desktop\\\\Project\\\\Data\\\\seq_3\\\\seq_3_view_5.mp4', 'c:\\\\Users\\\\umerh\\\\Desktop\\\\Project\\\\Data\\\\seq_3\\\\seq_3_view_6.mp4', 'c:\\\\Users\\\\umerh\\\\Desktop\\\\Project\\\\Data\\\\seq_3\\\\seq_3_view_7.mp4', 'c:\\\\Users\\\\umerh\\\\Desktop\\\\Project\\\\Data\\\\seq_3\\\\seq_3_view_8.mp4']\n",
      "['c:\\\\Users\\\\umerh\\\\Desktop\\\\Project\\\\Data\\\\seq_4\\\\seq_4_view_1.mp4', 'c:\\\\Users\\\\umerh\\\\Desktop\\\\Project\\\\Data\\\\seq_4\\\\seq_4_view_2.mp4', 'c:\\\\Users\\\\umerh\\\\Desktop\\\\Project\\\\Data\\\\seq_4\\\\seq_4_view_3.mp4', 'c:\\\\Users\\\\umerh\\\\Desktop\\\\Project\\\\Data\\\\seq_4\\\\seq_4_view_4.mp4', 'c:\\\\Users\\\\umerh\\\\Desktop\\\\Project\\\\Data\\\\seq_4\\\\seq_4_view_5.mp4', 'c:\\\\Users\\\\umerh\\\\Desktop\\\\Project\\\\Data\\\\seq_4\\\\seq_4_view_6.mp4', 'c:\\\\Users\\\\umerh\\\\Desktop\\\\Project\\\\Data\\\\seq_4\\\\seq_4_view_7.mp4', 'c:\\\\Users\\\\umerh\\\\Desktop\\\\Project\\\\Data\\\\seq_4\\\\seq_4_view_8.mp4']\n",
      "['c:\\\\Users\\\\umerh\\\\Desktop\\\\Project\\\\Data\\\\seq_5\\\\seq_5_view_1.mp4', 'c:\\\\Users\\\\umerh\\\\Desktop\\\\Project\\\\Data\\\\seq_5\\\\seq_5_view_2.mp4', 'c:\\\\Users\\\\umerh\\\\Desktop\\\\Project\\\\Data\\\\seq_5\\\\seq_5_view_3.mp4', 'c:\\\\Users\\\\umerh\\\\Desktop\\\\Project\\\\Data\\\\seq_5\\\\seq_5_view_4.mp4', 'c:\\\\Users\\\\umerh\\\\Desktop\\\\Project\\\\Data\\\\seq_5\\\\seq_5_view_5.mp4', 'c:\\\\Users\\\\umerh\\\\Desktop\\\\Project\\\\Data\\\\seq_5\\\\seq_5_view_6.mp4', 'c:\\\\Users\\\\umerh\\\\Desktop\\\\Project\\\\Data\\\\seq_5\\\\seq_5_view_7.mp4', 'c:\\\\Users\\\\umerh\\\\Desktop\\\\Project\\\\Data\\\\seq_5\\\\seq_5_view_8.mp4']\n",
      "['c:\\\\Users\\\\umerh\\\\Desktop\\\\Project\\\\Data\\\\seq_6\\\\seq_6_view_1.mp4', 'c:\\\\Users\\\\umerh\\\\Desktop\\\\Project\\\\Data\\\\seq_6\\\\seq_6_view_2.mp4', 'c:\\\\Users\\\\umerh\\\\Desktop\\\\Project\\\\Data\\\\seq_6\\\\seq_6_view_3.mp4', 'c:\\\\Users\\\\umerh\\\\Desktop\\\\Project\\\\Data\\\\seq_6\\\\seq_6_view_4.mp4', 'c:\\\\Users\\\\umerh\\\\Desktop\\\\Project\\\\Data\\\\seq_6\\\\seq_6_view_5.mp4', 'c:\\\\Users\\\\umerh\\\\Desktop\\\\Project\\\\Data\\\\seq_6\\\\seq_6_view_6.mp4', 'c:\\\\Users\\\\umerh\\\\Desktop\\\\Project\\\\Data\\\\seq_6\\\\seq_6_view_7.mp4', 'c:\\\\Users\\\\umerh\\\\Desktop\\\\Project\\\\Data\\\\seq_6\\\\seq_6_view_8.mp4']\n",
      "['c:\\\\Users\\\\umerh\\\\Desktop\\\\Project\\\\Data\\\\seq_7\\\\seq_7_view_1.mp4', 'c:\\\\Users\\\\umerh\\\\Desktop\\\\Project\\\\Data\\\\seq_7\\\\seq_7_view_2.mp4', 'c:\\\\Users\\\\umerh\\\\Desktop\\\\Project\\\\Data\\\\seq_7\\\\seq_7_view_3.mp4', 'c:\\\\Users\\\\umerh\\\\Desktop\\\\Project\\\\Data\\\\seq_7\\\\seq_7_view_4.mp4', 'c:\\\\Users\\\\umerh\\\\Desktop\\\\Project\\\\Data\\\\seq_7\\\\seq_7_view_5.mp4', 'c:\\\\Users\\\\umerh\\\\Desktop\\\\Project\\\\Data\\\\seq_7\\\\seq_7_view_6.mp4', 'c:\\\\Users\\\\umerh\\\\Desktop\\\\Project\\\\Data\\\\seq_7\\\\seq_7_view_7.mp4', 'c:\\\\Users\\\\umerh\\\\Desktop\\\\Project\\\\Data\\\\seq_7\\\\seq_7_view_8.mp4']\n",
      "['c:\\\\Users\\\\umerh\\\\Desktop\\\\Project\\\\Data\\\\seq_8\\\\seq_8_view_1.mp4', 'c:\\\\Users\\\\umerh\\\\Desktop\\\\Project\\\\Data\\\\seq_8\\\\seq_8_view_2.mp4', 'c:\\\\Users\\\\umerh\\\\Desktop\\\\Project\\\\Data\\\\seq_8\\\\seq_8_view_3.mp4', 'c:\\\\Users\\\\umerh\\\\Desktop\\\\Project\\\\Data\\\\seq_8\\\\seq_8_view_4.mp4', 'c:\\\\Users\\\\umerh\\\\Desktop\\\\Project\\\\Data\\\\seq_8\\\\seq_8_view_5.mp4', 'c:\\\\Users\\\\umerh\\\\Desktop\\\\Project\\\\Data\\\\seq_8\\\\seq_8_view_6.mp4', 'c:\\\\Users\\\\umerh\\\\Desktop\\\\Project\\\\Data\\\\seq_8\\\\seq_8_view_7.mp4', 'c:\\\\Users\\\\umerh\\\\Desktop\\\\Project\\\\Data\\\\seq_8\\\\seq_8_view_8.mp4']\n",
      "['c:\\\\Users\\\\umerh\\\\Desktop\\\\Project\\\\Data\\\\seq_9\\\\seq_9_view_1.mp4', 'c:\\\\Users\\\\umerh\\\\Desktop\\\\Project\\\\Data\\\\seq_9\\\\seq_9_view_2.mp4', 'c:\\\\Users\\\\umerh\\\\Desktop\\\\Project\\\\Data\\\\seq_9\\\\seq_9_view_3.mp4', 'c:\\\\Users\\\\umerh\\\\Desktop\\\\Project\\\\Data\\\\seq_9\\\\seq_9_view_4.mp4', 'c:\\\\Users\\\\umerh\\\\Desktop\\\\Project\\\\Data\\\\seq_9\\\\seq_9_view_5.mp4', 'c:\\\\Users\\\\umerh\\\\Desktop\\\\Project\\\\Data\\\\seq_9\\\\seq_9_view_6.mp4', 'c:\\\\Users\\\\umerh\\\\Desktop\\\\Project\\\\Data\\\\seq_9\\\\seq_9_view_7.mp4', 'c:\\\\Users\\\\umerh\\\\Desktop\\\\Project\\\\Data\\\\seq_9\\\\seq_9_view_8.mp4']\n"
     ]
    }
   ],
   "source": [
    "# Create video dataset\n",
    "dataset = VideoDataset(data_path)\n",
    "\n",
    "for video in dataset:\n",
    "    print(video)"
   ]
  },
  {
   "cell_type": "code",
   "execution_count": 4,
   "metadata": {},
   "outputs": [
    {
     "name": "stdout",
     "output_type": "stream",
     "text": [
      "HOME: c:\\Users\\umerh\\Desktop\\Project\n"
     ]
    }
   ],
   "source": [
    "import os\n",
    "HOME = os.getcwd()\n",
    "print(\"HOME:\", HOME)\n",
    "\n",
    "# temporary fix for some weird locale bug\n",
    "import locale\n",
    "locale.getpreferredencoding = lambda: \"UTF-8\""
   ]
  },
  {
   "cell_type": "code",
   "execution_count": 5,
   "metadata": {},
   "outputs": [
    {
     "name": "stdout",
     "output_type": "stream",
     "text": [
      "c:\\Users\\umerh\\Desktop\\Project\n"
     ]
    }
   ],
   "source": [
    "# either one of these should work\n",
    "%cd {HOME}\n",
    "try:\n",
    "  import groundingdino\n",
    "  from groundingdino.util.inference import Model as GroundingDINOModel\n",
    "except ImportError:\n",
    "  import GroundingDINO\n",
    "  from GroundingDINO.groundingdino.util.inference import Model as GroundingDINOModel"
   ]
  },
  {
   "cell_type": "code",
   "execution_count": 8,
   "metadata": {},
   "outputs": [
    {
     "name": "stdout",
     "output_type": "stream",
     "text": [
      "c:\\Users\\umerh\\Desktop\\Project\\Tracking-Anything-with-DEVA\n"
     ]
    },
    {
     "data": {
      "text/plain": [
       "\"deva_model = DEVA(cfg).cuda().eval()\\nif args.model is not None:\\n    model_weights = torch.load(args.model)\\n    deva_model.load_weights(model_weights)\\nelse:\\n    print('No model loaded.')\\n\\ngd_model, sam_model = get_grounding_dino_model(cfg, 'cuda')\""
      ]
     },
     "execution_count": 8,
     "metadata": {},
     "output_type": "execute_result"
    }
   ],
   "source": [
    "%cd {HOME}/Tracking-Anything-with-DEVA\n",
    "\n",
    "import os\n",
    "from os import path\n",
    "from argparse import ArgumentParser\n",
    "\n",
    "import torch\n",
    "import numpy as np\n",
    "\n",
    "from deva.model.network import DEVA\n",
    "from deva.inference.inference_core import DEVAInferenceCore\n",
    "from deva.inference.result_utils import ResultSaver\n",
    "from deva.inference.eval_args import add_common_eval_args, get_model_and_config\n",
    "from deva.inference.demo_utils import flush_buffer\n",
    "from deva.ext.ext_eval_args import add_ext_eval_args, add_text_default_args\n",
    "from deva.ext.grounding_dino import get_grounding_dino_model\n",
    "from deva.ext.with_text_processor import process_frame_with_text as process_frame\n",
    "\n",
    "from tqdm import tqdm\n",
    "import json\n",
    "\n",
    "torch.autograd.set_grad_enabled(False)\n",
    "\n",
    "# for id2rgb\n",
    "np.random.seed(42)\n",
    "\n",
    "# default parameters\n",
    "parser = ArgumentParser()\n",
    "add_common_eval_args(parser)\n",
    "add_ext_eval_args(parser)\n",
    "add_text_default_args(parser)\n",
    "\n",
    "# load model and config\n",
    "args = parser.parse_args([])\n",
    "cfg = vars(args)\n",
    "cfg['enable_long_term'] = True\n",
    "\n",
    "# Load our checkpoint\n",
    "deva_model = DEVA(cfg).cuda().eval()\n",
    "if args.model is not None:\n",
    "    model_weights = torch.load(args.model)\n",
    "    deva_model.load_weights(model_weights)\n",
    "else:\n",
    "    print('No model loaded.')\n",
    "\n",
    "gd_model, sam_model = get_grounding_dino_model(cfg, 'cuda')"
   ]
  },
  {
   "cell_type": "code",
   "execution_count": 9,
   "metadata": {},
   "outputs": [],
   "source": [
    "cfg['enable_long_term_count_usage'] = True\n",
    "cfg['max_num_objects'] = 50\n",
    "cfg['size'] = 480\n",
    "cfg['DINO_THRESHOLD'] = 0.35\n",
    "cfg['amp'] = True\n",
    "cfg['chunk_size'] = 4\n",
    "cfg['detection_every'] = 5\n",
    "cfg['max_missed_detection_count'] = 10\n",
    "cfg['sam_variant'] = 'original'\n",
    "cfg['temporal_setting'] = 'semionline' # semionline usually works better than online\n",
    "cfg['pluralize'] = True"
   ]
  },
  {
   "cell_type": "code",
   "execution_count": 11,
   "metadata": {},
   "outputs": [],
   "source": [
    "from utilities import get_segmented_output_path\n",
    "\n",
    "SOURCE_VIDEO_PATH = dataset[0][0]\n",
    "CLASSES = ['black sticks', 'hands', 'plastic','person','rectangular black object'] ## detecting hands has higher acc with person, small plastic is hard to detect\n",
    "\n",
    "# Path to save output video\n",
    "OUTPUT_VIDEO_PATH = get_segmented_output_path(SOURCE_VIDEO_PATH)"
   ]
  },
  {
   "cell_type": "code",
   "execution_count": 12,
   "metadata": {},
   "outputs": [
    {
     "name": "stdout",
     "output_type": "stream",
     "text": [
      "c:\\Users\\umerh\\Desktop\\Project\\Tracking-Anything-with-DEVA\n"
     ]
    },
    {
     "name": "stderr",
     "output_type": "stream",
     "text": [
      "  0%|          | 0/1584 [00:00<?, ?it/s]FutureWarning: The `device` argument is deprecated and will be removed in v5 of Transformers.\n",
      "UserWarning: 1Torch was not compiled with flash attention. (Triggered internally at C:\\cb\\pytorch_1000000000000\\work\\aten\\src\\ATen\\native\\transformers\\cuda\\sdp_utils.cpp:455.)\n",
      "UserWarning: torch.utils.checkpoint: the use_reentrant parameter should be passed explicitly. In version 2.4 we will raise an exception if use_reentrant is not passed. use_reentrant=False is recommended, but if you need to preserve the current default behavior, you can pass use_reentrant=True. Refer to docs for more details on the differences between the two variants.\n",
      "UserWarning: None of the inputs have requires_grad=True. Gradients will be None\n",
      "  0%|          | 2/1584 [00:03<40:13,  1.53s/it]  "
     ]
    },
    {
     "name": "stdout",
     "output_type": "stream",
     "text": [
      "Restricted license - for non-production use only - expires 2025-11-24\n"
     ]
    },
    {
     "name": "stderr",
     "output_type": "stream",
     "text": [
      "  3%|▎         | 49/1584 [00:19<10:13,  2.50it/s]\n"
     ]
    }
   ],
   "source": [
    "%cd {HOME}/Tracking-Anything-with-DEVA\n",
    "\n",
    "from deva.ext.with_text_processor import process_frame_with_text as process_frame_text\n",
    "import tempfile\n",
    "import cv2\n",
    "\n",
    "cfg['prompt'] = '.'.join(CLASSES)\n",
    "\n",
    "deva = DEVAInferenceCore(deva_model, config=cfg)\n",
    "deva.next_voting_frame = cfg['num_voting_frames'] - 1\n",
    "deva.enabled_long_id()\n",
    "\n",
    "# obtain temporary directory\n",
    "result_saver = ResultSaver(None, None, dataset='gradio', object_manager=deva.object_manager)\n",
    "writer_initizied = False\n",
    "\n",
    "cap = cv2.VideoCapture(SOURCE_VIDEO_PATH)\n",
    "fps = cap.get(cv2.CAP_PROP_FPS)\n",
    "ti = 0\n",
    "# only an estimate\n",
    "with torch.cuda.amp.autocast(enabled=cfg['amp']):\n",
    "    with tqdm(total=int(cap.get(cv2.CAP_PROP_FRAME_COUNT))) as pbar:\n",
    "        while (cap.isOpened()):\n",
    "            ret, frame = cap.read()\n",
    "            if ret == True:\n",
    "                if not writer_initizied:\n",
    "                    h, w = frame.shape[:2]\n",
    "                    writer = cv2.VideoWriter(OUTPUT_VIDEO_PATH, cv2.VideoWriter_fourcc(*'vp80'), fps, (w, h))\n",
    "                    writer_initizied = True\n",
    "                    result_saver.writer = writer\n",
    "\n",
    "                process_frame_text(deva,\n",
    "                                    gd_model,\n",
    "                                    sam_model,\n",
    "                                    'null.png',\n",
    "                                    result_saver,\n",
    "                                    ti,\n",
    "                                    image_np=frame)\n",
    "                ti += 1\n",
    "                if ti == 50:\n",
    "                    break\n",
    "                pbar.update(1)\n",
    "            else:\n",
    "                break\n",
    "    flush_buffer(deva, result_saver)\n",
    "writer.release()\n",
    "cap.release()\n",
    "deva.clear_buffer()"
   ]
  }
 ],
 "metadata": {
  "kernelspec": {
   "display_name": "i2dl",
   "language": "python",
   "name": "python3"
  },
  "language_info": {
   "codemirror_mode": {
    "name": "ipython",
    "version": 3
   },
   "file_extension": ".py",
   "mimetype": "text/x-python",
   "name": "python",
   "nbconvert_exporter": "python",
   "pygments_lexer": "ipython3",
   "version": "3.11.8"
  }
 },
 "nbformat": 4,
 "nbformat_minor": 2
}
